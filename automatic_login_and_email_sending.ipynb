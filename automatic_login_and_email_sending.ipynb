{
 "cells": [
  {
   "cell_type": "code",
   "execution_count": 1,
   "outputs": [
    {
     "ename": "NoSuchWindowException",
     "evalue": "Message: no such window: target window already closed\nfrom unknown error: web view not found\n  (Session info: chrome=118.0.5993.71)\nStacktrace:\n\tGetHandleVerifier [0x00007FF785F18EF2+54786]\n\t(No symbol) [0x00007FF785E85612]\n\t(No symbol) [0x00007FF785D3A64B]\n\t(No symbol) [0x00007FF785D1A9F5]\n\t(No symbol) [0x00007FF785DA0887]\n\t(No symbol) [0x00007FF785DB43CF]\n\t(No symbol) [0x00007FF785D9BC43]\n\t(No symbol) [0x00007FF785D70941]\n\t(No symbol) [0x00007FF785D71B84]\n\tGetHandleVerifier [0x00007FF786267F52+3524194]\n\tGetHandleVerifier [0x00007FF7862BD800+3874576]\n\tGetHandleVerifier [0x00007FF7862B5D7F+3843215]\n\tGetHandleVerifier [0x00007FF785FB5086+694166]\n\t(No symbol) [0x00007FF785E90A88]\n\t(No symbol) [0x00007FF785E8CA94]\n\t(No symbol) [0x00007FF785E8CBC2]\n\t(No symbol) [0x00007FF785E7CC83]\n\tBaseThreadInitThunk [0x00007FFC3B637344+20]\n\tRtlUserThreadStart [0x00007FFC3D6026B1+33]\n",
     "output_type": "error",
     "traceback": [
      "\u001B[1;31m---------------------------------------------------------------------------\u001B[0m",
      "\u001B[1;31mNoSuchWindowException\u001B[0m                     Traceback (most recent call last)",
      "Cell \u001B[1;32mIn[1], line 50\u001B[0m\n\u001B[0;32m     47\u001B[0m content \u001B[38;5;241m=\u001B[39m sheet\u001B[38;5;241m.\u001B[39mcell(row\u001B[38;5;241m=\u001B[39mrow, column\u001B[38;5;241m=\u001B[39m\u001B[38;5;241m3\u001B[39m)\u001B[38;5;241m.\u001B[39mvalue\n\u001B[0;32m     49\u001B[0m \u001B[38;5;66;03m# 메일함 이동\u001B[39;00m\n\u001B[1;32m---> 50\u001B[0m \u001B[43mdriver\u001B[49m\u001B[38;5;241;43m.\u001B[39;49m\u001B[43mget\u001B[49m\u001B[43m(\u001B[49m\u001B[38;5;124;43m\"\u001B[39;49m\u001B[38;5;124;43mhttps://mail.naver.com/v2/new\u001B[39;49m\u001B[38;5;124;43m\"\u001B[39;49m\u001B[43m)\u001B[49m\n\u001B[0;32m     52\u001B[0m \u001B[38;5;66;03m# 받는 사람 입력\u001B[39;00m\n\u001B[0;32m     53\u001B[0m driver\u001B[38;5;241m.\u001B[39mfind_element(By\u001B[38;5;241m.\u001B[39mCSS_SELECTOR,\u001B[38;5;124m\"\u001B[39m\u001B[38;5;124m#recipient_input_element\u001B[39m\u001B[38;5;124m\"\u001B[39m)\u001B[38;5;241m.\u001B[39msend_keys(address)\n",
      "File \u001B[1;32mC:\\intern\\python\\Lib\\site-packages\\selenium\\webdriver\\remote\\webdriver.py:353\u001B[0m, in \u001B[0;36mWebDriver.get\u001B[1;34m(self, url)\u001B[0m\n\u001B[0;32m    351\u001B[0m \u001B[38;5;28;01mdef\u001B[39;00m \u001B[38;5;21mget\u001B[39m(\u001B[38;5;28mself\u001B[39m, url: \u001B[38;5;28mstr\u001B[39m) \u001B[38;5;241m-\u001B[39m\u001B[38;5;241m>\u001B[39m \u001B[38;5;28;01mNone\u001B[39;00m:\n\u001B[0;32m    352\u001B[0m \u001B[38;5;250m    \u001B[39m\u001B[38;5;124;03m\"\"\"Loads a web page in the current browser session.\"\"\"\u001B[39;00m\n\u001B[1;32m--> 353\u001B[0m     \u001B[38;5;28;43mself\u001B[39;49m\u001B[38;5;241;43m.\u001B[39;49m\u001B[43mexecute\u001B[49m\u001B[43m(\u001B[49m\u001B[43mCommand\u001B[49m\u001B[38;5;241;43m.\u001B[39;49m\u001B[43mGET\u001B[49m\u001B[43m,\u001B[49m\u001B[43m \u001B[49m\u001B[43m{\u001B[49m\u001B[38;5;124;43m\"\u001B[39;49m\u001B[38;5;124;43murl\u001B[39;49m\u001B[38;5;124;43m\"\u001B[39;49m\u001B[43m:\u001B[49m\u001B[43m \u001B[49m\u001B[43murl\u001B[49m\u001B[43m}\u001B[49m\u001B[43m)\u001B[49m\n",
      "File \u001B[1;32mC:\\intern\\python\\Lib\\site-packages\\selenium\\webdriver\\remote\\webdriver.py:344\u001B[0m, in \u001B[0;36mWebDriver.execute\u001B[1;34m(self, driver_command, params)\u001B[0m\n\u001B[0;32m    342\u001B[0m response \u001B[38;5;241m=\u001B[39m \u001B[38;5;28mself\u001B[39m\u001B[38;5;241m.\u001B[39mcommand_executor\u001B[38;5;241m.\u001B[39mexecute(driver_command, params)\n\u001B[0;32m    343\u001B[0m \u001B[38;5;28;01mif\u001B[39;00m response:\n\u001B[1;32m--> 344\u001B[0m     \u001B[38;5;28;43mself\u001B[39;49m\u001B[38;5;241;43m.\u001B[39;49m\u001B[43merror_handler\u001B[49m\u001B[38;5;241;43m.\u001B[39;49m\u001B[43mcheck_response\u001B[49m\u001B[43m(\u001B[49m\u001B[43mresponse\u001B[49m\u001B[43m)\u001B[49m\n\u001B[0;32m    345\u001B[0m     response[\u001B[38;5;124m\"\u001B[39m\u001B[38;5;124mvalue\u001B[39m\u001B[38;5;124m\"\u001B[39m] \u001B[38;5;241m=\u001B[39m \u001B[38;5;28mself\u001B[39m\u001B[38;5;241m.\u001B[39m_unwrap_value(response\u001B[38;5;241m.\u001B[39mget(\u001B[38;5;124m\"\u001B[39m\u001B[38;5;124mvalue\u001B[39m\u001B[38;5;124m\"\u001B[39m, \u001B[38;5;28;01mNone\u001B[39;00m))\n\u001B[0;32m    346\u001B[0m     \u001B[38;5;28;01mreturn\u001B[39;00m response\n",
      "File \u001B[1;32mC:\\intern\\python\\Lib\\site-packages\\selenium\\webdriver\\remote\\errorhandler.py:229\u001B[0m, in \u001B[0;36mErrorHandler.check_response\u001B[1;34m(self, response)\u001B[0m\n\u001B[0;32m    227\u001B[0m         alert_text \u001B[38;5;241m=\u001B[39m value[\u001B[38;5;124m\"\u001B[39m\u001B[38;5;124malert\u001B[39m\u001B[38;5;124m\"\u001B[39m]\u001B[38;5;241m.\u001B[39mget(\u001B[38;5;124m\"\u001B[39m\u001B[38;5;124mtext\u001B[39m\u001B[38;5;124m\"\u001B[39m)\n\u001B[0;32m    228\u001B[0m     \u001B[38;5;28;01mraise\u001B[39;00m exception_class(message, screen, stacktrace, alert_text)  \u001B[38;5;66;03m# type: ignore[call-arg]  # mypy is not smart enough here\u001B[39;00m\n\u001B[1;32m--> 229\u001B[0m \u001B[38;5;28;01mraise\u001B[39;00m exception_class(message, screen, stacktrace)\n",
      "\u001B[1;31mNoSuchWindowException\u001B[0m: Message: no such window: target window already closed\nfrom unknown error: web view not found\n  (Session info: chrome=118.0.5993.71)\nStacktrace:\n\tGetHandleVerifier [0x00007FF785F18EF2+54786]\n\t(No symbol) [0x00007FF785E85612]\n\t(No symbol) [0x00007FF785D3A64B]\n\t(No symbol) [0x00007FF785D1A9F5]\n\t(No symbol) [0x00007FF785DA0887]\n\t(No symbol) [0x00007FF785DB43CF]\n\t(No symbol) [0x00007FF785D9BC43]\n\t(No symbol) [0x00007FF785D70941]\n\t(No symbol) [0x00007FF785D71B84]\n\tGetHandleVerifier [0x00007FF786267F52+3524194]\n\tGetHandleVerifier [0x00007FF7862BD800+3874576]\n\tGetHandleVerifier [0x00007FF7862B5D7F+3843215]\n\tGetHandleVerifier [0x00007FF785FB5086+694166]\n\t(No symbol) [0x00007FF785E90A88]\n\t(No symbol) [0x00007FF785E8CA94]\n\t(No symbol) [0x00007FF785E8CBC2]\n\t(No symbol) [0x00007FF785E7CC83]\n\tBaseThreadInitThunk [0x00007FFC3B637344+20]\n\tRtlUserThreadStart [0x00007FFC3D6026B1+33]\n"
     ]
    }
   ],
   "source": [
    "# 주피터 노트북, 새로 만든 네이버 아이디.\n",
    "\n",
    "from selenium import webdriver\n",
    "from selenium.webdriver.common.by import By\n",
    "import time\n",
    "import pyautogui\n",
    "import pyperclip\n",
    "import openpyxl as xl\n",
    "\n",
    "\n",
    "# 네이버 로그인 화면\n",
    "url = \"https://nid.naver.com/nidlogin.login?mode=form&url=https://www.naver.com/\"\n",
    "driver = webdriver.Chrome()\n",
    "driver.implicitly_wait(10)\n",
    "driver.maximize_window()\n",
    "driver.get(url)\n",
    "\n",
    "# 아이디 입력창\n",
    "id = driver.find_element(By.XPATH, '//*[@id=\"id\"]')\n",
    "id.click()\n",
    "pyperclip.copy(\"det9439\")\n",
    "pyautogui.hotkey(\"ctrl\", \"v\")\n",
    "time.sleep(2)\n",
    "\n",
    "# 비밀번호 입력창\n",
    "pw = driver.find_element(By.XPATH, '//*[@id=\"pw\"]')\n",
    "pw.click()\n",
    "pyperclip.copy(\"q1w2e3r4\")\n",
    "pyautogui.hotkey(\"ctrl\", \"v\")\n",
    "time.sleep(2)\n",
    "\n",
    "# 로그인 버튼\n",
    "login_btn = driver.find_element(By.XPATH, '//*[@id=\"log.login\"]')\n",
    "login_btn.click()\n",
    "time.sleep(2)\n",
    "\n",
    "# 엑셀로부터 메일 추출\n",
    "wb = xl.load_workbook('sample_email_list.xlsx')\n",
    "sheet = wb.active\n",
    "\n",
    "for row in range(2, sheet.max_row + 1):\n",
    "    # 첫번째 컬럼 : 주소\n",
    "    address = sheet.cell(row=row, column=1).value\n",
    "    # 두번째 컬럼 : 제목\n",
    "    title = sheet.cell(row=row, column=2).value\n",
    "    # 세번째 컬럼 : 본문\n",
    "    content = sheet.cell(row=row, column=3).value\n",
    "    \n",
    "    # 메일함 이동\n",
    "    driver.get(\"https://mail.naver.com/v2/new\")\n",
    "    \n",
    "    # 받는 사람 입력\n",
    "    driver.find_element(By.CSS_SELECTOR,\"#recipient_input_element\").send_keys(address)\n",
    "    time.sleep(2)\n",
    "    \n",
    "    # 제목 입력\n",
    "    driver.find_element(By.CSS_SELECTOR, \"#subject_title\").send_keys(title)\n",
    "    time.sleep(2)\n",
    "    \n",
    "    # 11:35\n",
    "    # iframe 안으로\n",
    "    iframe = driver.find_element(By.CSS_SELECTOR, \"#content > div.contents_area > div > div.editor_area > div > div.editor_body > iframe\")\n",
    "    driver.switch_to.frame(iframe)\n",
    "    \n",
    "    # 본문 입력\n",
    "    driver.find_element(By.CSS_SELECTOR,\"body > div > div.workseditor-content\").send_keys(content)\n",
    "    time.sleep(2)\n",
    "    \n",
    "    # iframe 밖으로\n",
    "    driver.switch_to.default_content()\n",
    "    \n",
    "    # 보내기 버튼 클릭\n",
    "    driver.find_element(By.CSS_SELECTOR,\"#content > div.mail_toolbar.type_write > div:nth-child(1) > div > button.button_write_task\").click()\n",
    "    # 봇 탐지를 막기 위한 20초의 딜레이\n",
    "    time.sleep(20)\n",
    "    \n",
    "print('끝')\n",
    "\n"
   ],
   "metadata": {
    "collapsed": false,
    "ExecuteTime": {
     "end_time": "2023-10-17T23:43:32.030497300Z",
     "start_time": "2023-10-17T23:42:26.522348800Z"
    }
   },
   "id": "cd6f67db6862628"
  },
  {
   "cell_type": "code",
   "execution_count": null,
   "outputs": [],
   "source": [],
   "metadata": {
    "collapsed": false,
    "ExecuteTime": {
     "end_time": "2023-10-17T02:35:21.635943400Z",
     "start_time": "2023-10-17T02:35:21.635943400Z"
    }
   },
   "id": "19a1256baf31f4c"
  },
  {
   "cell_type": "code",
   "execution_count": null,
   "outputs": [],
   "source": [],
   "metadata": {
    "collapsed": false,
    "ExecuteTime": {
     "start_time": "2023-10-17T02:35:21.637941Z"
    }
   },
   "id": "45767799e2b21b83"
  },
  {
   "cell_type": "code",
   "execution_count": null,
   "outputs": [],
   "source": [],
   "metadata": {
    "collapsed": false,
    "ExecuteTime": {
     "start_time": "2023-10-17T02:35:21.638941500Z"
    }
   },
   "id": "a3888ea6457ebdb1"
  },
  {
   "cell_type": "code",
   "execution_count": null,
   "outputs": [],
   "source": [],
   "metadata": {
    "collapsed": false,
    "ExecuteTime": {
     "start_time": "2023-10-17T02:35:21.640950400Z"
    }
   },
   "id": "c2897f5eecf66f0a"
  },
  {
   "cell_type": "code",
   "execution_count": null,
   "outputs": [],
   "source": [],
   "metadata": {
    "collapsed": false,
    "ExecuteTime": {
     "start_time": "2023-10-17T02:35:21.642939900Z"
    }
   },
   "id": "1889d3892b0804d1"
  }
 ],
 "metadata": {
  "kernelspec": {
   "display_name": "Python 3",
   "language": "python",
   "name": "python3"
  },
  "language_info": {
   "codemirror_mode": {
    "name": "ipython",
    "version": 2
   },
   "file_extension": ".py",
   "mimetype": "text/x-python",
   "name": "python",
   "nbconvert_exporter": "python",
   "pygments_lexer": "ipython2",
   "version": "2.7.6"
  }
 },
 "nbformat": 4,
 "nbformat_minor": 5
}
